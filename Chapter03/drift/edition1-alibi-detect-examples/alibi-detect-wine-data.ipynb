{
 "cells": [
  {
   "cell_type": "code",
   "execution_count": 1,
   "metadata": {},
   "outputs": [
    {
     "name": "stderr",
     "output_type": "stream",
     "text": [
      "/opt/anaconda3/envs/mlewp-chapter03/lib/python3.10/site-packages/tqdm/auto.py:21: TqdmWarning: IProgress not found. Please update jupyter and ipywidgets. See https://ipywidgets.readthedocs.io/en/stable/user_install.html\n",
      "  from .autonotebook import tqdm as notebook_tqdm\n",
      "None of PyTorch, TensorFlow >= 2.0, or Flax have been found. Models won't be available and only tokenizers, configuration and file/data utilities can be used.\n"
     ]
    }
   ],
   "source": [
    "from sklearn.model_selection import train_test_split\n",
    "from sklearn.preprocessing import StandardScaler\n",
    "from sklearn.linear_model import RidgeClassifier\n",
    "from sklearn import metrics\n",
    "from sklearn.pipeline import make_pipeline\n",
    "\n",
    "from sklearn.datasets import load_wine\n",
    "from sklearn.model_selection import train_test_split\n",
    "\n",
    "import alibi\n",
    "from alibi_detect.cd import ChiSquareDrift, TabularDrift\n",
    "from alibi_detect.utils.saving import save_detector, load_detector\n"
   ]
  },
  {
   "cell_type": "code",
   "execution_count": 2,
   "metadata": {},
   "outputs": [],
   "source": [
    "# Grab the data\n",
    "wine_data = load_wine()\n",
    "feature_names = wine_data.feature_names\n",
    "X, y = wine_data.data, wine_data.target \n",
    "\n",
    "# Make a 50/50 reference/test split\n",
    "X_ref, X_test, y_ref, y_test = train_test_split(X, y,\n",
    "                                                test_size=0.50,\n",
    "                                                random_state=42)"
   ]
  },
  {
   "cell_type": "code",
   "execution_count": 4,
   "metadata": {},
   "outputs": [
    {
     "name": "stderr",
     "output_type": "stream",
     "text": [
      "/opt/anaconda3/envs/mlewp-chapter03/lib/python3.10/site-packages/alibi_detect/cd/tabular.py:113: UserWarning: No `categories_per_feature` dict provided so all features are assumed to be numerical. `KSDrift` will be applied to all features.\n",
      "  warnings.warn('No `categories_per_feature` dict provided so all features are assumed to be numerical. '\n"
     ]
    }
   ],
   "source": [
    "# Initialise the detector\n",
    "cd = TabularDrift(X_ref, p_val=.05, )"
   ]
  },
  {
   "cell_type": "code",
   "execution_count": 5,
   "metadata": {},
   "outputs": [
    {
     "name": "stdout",
     "output_type": "stream",
     "text": [
      "Drift: No\n"
     ]
    }
   ],
   "source": [
    "# Check for drift \n",
    "preds = cd.predict(X_test)\n",
    "labels = ['No', 'Yes']\n",
    "print('Drift: {}'.format(labels[preds['data']['is_drift']]))"
   ]
  },
  {
   "cell_type": "code",
   "execution_count": 6,
   "metadata": {},
   "outputs": [
    {
     "name": "stdout",
     "output_type": "stream",
     "text": [
      "Drift: Yes\n"
     ]
    }
   ],
   "source": [
    "# Check for drift - X_test_cal_error is simulated calibration error test set\n",
    "X_test_cal_error = 1.1*X_test\n",
    "preds = cd.predict(X_test_cal_error)\n",
    "labels = ['No', 'Yes']\n",
    "print('Drift: {}'.format(labels[preds['data']['is_drift']]))"
   ]
  },
  {
   "cell_type": "code",
   "execution_count": 7,
   "metadata": {},
   "outputs": [],
   "source": [
    "# check for drift at the level of features\n",
    "fpreds = cd.predict(X_test+4, drift_type='feature')"
   ]
  },
  {
   "cell_type": "code",
   "execution_count": 8,
   "metadata": {},
   "outputs": [],
   "source": [
    "results = []\n",
    "for f in range(cd.n_features):\n",
    "    \n",
    "    stat = 'K-S' #all numeric features for this dataset\n",
    "    fname = feature_names[f]\n",
    "    is_drift = fpreds['data']['is_drift'][f]\n",
    "    stat_val, p_val = fpreds['data']['distance'][f], fpreds['data']['p_val'][f]\n",
    "    \n",
    "    results.append(\n",
    "        {\n",
    "            'feature': fname,\n",
    "            'statistic': 'K-S',\n",
    "            'statisticValue': float(stat_val),\n",
    "            'driftResult': labels[is_drift],\n",
    "            'pValue': float(p_val)\n",
    "        }\n",
    "    )"
   ]
  },
  {
   "cell_type": "code",
   "execution_count": 10,
   "metadata": {},
   "outputs": [
    {
     "name": "stdout",
     "output_type": "stream",
     "text": [
      "[\n",
      "    {\n",
      "        \"driftResult\": \"Yes\",\n",
      "        \"feature\": \"alcohol\",\n",
      "        \"pValue\": 0.0,\n",
      "        \"statistic\": \"K-S\",\n",
      "        \"statisticValue\": 1.0\n",
      "    },\n",
      "    {\n",
      "        \"driftResult\": \"Yes\",\n",
      "        \"feature\": \"malic_acid\",\n",
      "        \"pValue\": 0.0,\n",
      "        \"statistic\": \"K-S\",\n",
      "        \"statisticValue\": 0.9775280952453613\n",
      "    },\n",
      "    {\n",
      "        \"driftResult\": \"Yes\",\n",
      "        \"feature\": \"ash\",\n",
      "        \"pValue\": 0.0,\n",
      "        \"statistic\": \"K-S\",\n",
      "        \"statisticValue\": 1.0\n",
      "    },\n",
      "    {\n",
      "        \"driftResult\": \"Yes\",\n",
      "        \"feature\": \"alcalinity_of_ash\",\n",
      "        \"pValue\": 8.490475522648921e-08,\n",
      "        \"statistic\": \"K-S\",\n",
      "        \"statisticValue\": 0.42696627974510193\n",
      "    },\n",
      "    {\n",
      "        \"driftResult\": \"No\",\n",
      "        \"feature\": \"magnesium\",\n",
      "        \"pValue\": 0.070224329829216,\n",
      "        \"statistic\": \"K-S\",\n",
      "        \"statisticValue\": 0.1910112351179123\n",
      "    },\n",
      "    {\n",
      "        \"driftResult\": \"Yes\",\n",
      "        \"feature\": \"total_phenols\",\n",
      "        \"pValue\": 0.0,\n",
      "        \"statistic\": \"K-S\",\n",
      "        \"statisticValue\": 1.0\n",
      "    },\n",
      "    {\n",
      "        \"driftResult\": \"Yes\",\n",
      "        \"feature\": \"flavanoids\",\n",
      "        \"pValue\": 0.0,\n",
      "        \"statistic\": \"K-S\",\n",
      "        \"statisticValue\": 0.9887640476226807\n",
      "    },\n",
      "    {\n",
      "        \"driftResult\": \"Yes\",\n",
      "        \"feature\": \"nonflavanoid_phenols\",\n",
      "        \"pValue\": 0.0,\n",
      "        \"statistic\": \"K-S\",\n",
      "        \"statisticValue\": 1.0\n",
      "    },\n",
      "    {\n",
      "        \"driftResult\": \"Yes\",\n",
      "        \"feature\": \"proanthocyanins\",\n",
      "        \"pValue\": 0.0,\n",
      "        \"statistic\": \"K-S\",\n",
      "        \"statisticValue\": 1.0\n",
      "    },\n",
      "    {\n",
      "        \"driftResult\": \"Yes\",\n",
      "        \"feature\": \"color_intensity\",\n",
      "        \"pValue\": 1.5488919488433937e-19,\n",
      "        \"statistic\": \"K-S\",\n",
      "        \"statisticValue\": 0.6629213690757751\n",
      "    },\n",
      "    {\n",
      "        \"driftResult\": \"Yes\",\n",
      "        \"feature\": \"hue\",\n",
      "        \"pValue\": 0.0,\n",
      "        \"statistic\": \"K-S\",\n",
      "        \"statisticValue\": 1.0\n",
      "    },\n",
      "    {\n",
      "        \"driftResult\": \"Yes\",\n",
      "        \"feature\": \"od280/od315_of_diluted_wines\",\n",
      "        \"pValue\": 0.0,\n",
      "        \"statistic\": \"K-S\",\n",
      "        \"statisticValue\": 1.0\n",
      "    },\n",
      "    {\n",
      "        \"driftResult\": \"No\",\n",
      "        \"feature\": \"proline\",\n",
      "        \"pValue\": 0.5954885482788086,\n",
      "        \"statistic\": \"K-S\",\n",
      "        \"statisticValue\": 0.11235955357551575\n",
      "    }\n",
      "]\n"
     ]
    }
   ],
   "source": [
    "import json\n",
    "print(json.dumps(results, indent=4, sort_keys=True))"
   ]
  }
 ],
 "metadata": {
  "kernelspec": {
   "display_name": "mlewp-chapter03",
   "language": "python",
   "name": "python3"
  },
  "language_info": {
   "codemirror_mode": {
    "name": "ipython",
    "version": 3
   },
   "file_extension": ".py",
   "mimetype": "text/x-python",
   "name": "python",
   "nbconvert_exporter": "python",
   "pygments_lexer": "ipython3",
   "version": "3.10.8"
  }
 },
 "nbformat": 4,
 "nbformat_minor": 4
}
