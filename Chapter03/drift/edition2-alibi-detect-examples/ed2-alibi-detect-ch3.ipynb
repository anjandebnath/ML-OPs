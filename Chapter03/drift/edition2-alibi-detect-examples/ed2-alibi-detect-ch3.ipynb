{
 "cells": [
  {
   "cell_type": "markdown",
   "id": "ba329d6c",
   "metadata": {},
   "source": [
    "Heavily leveraging example given here https://docs.seldon.io/projects/alibi-detect/en/latest/examples/cd_online_wine.html"
   ]
  },
  {
   "cell_type": "code",
   "execution_count": 1,
   "id": "701db6b4",
   "metadata": {},
   "outputs": [],
   "source": [
    "from sklearn.datasets import load_wine\n",
    "from sklearn.model_selection import train_test_split"
   ]
  },
  {
   "cell_type": "code",
   "execution_count": 2,
   "id": "675a114d",
   "metadata": {},
   "outputs": [],
   "source": [
    "wine_data = load_wine()\n",
    "feature_names = wine_data.feature_names\n",
    "\n",
    "X, y = wine_data.data, wine_data.target\n",
    "X_ref, X_test, y_ref, y_test = train_test_split(X, y, test_size=0.5, random_state=42)"
   ]
  },
  {
   "cell_type": "code",
   "execution_count": 3,
   "id": "18a107a6",
   "metadata": {},
   "outputs": [],
   "source": [
    "import matplotlib.pyplot as plt\n",
    "plt.rcParams.update({'font.size': 22})\n",
    "import numpy as np\n",
    "import scipy"
   ]
  },
  {
   "cell_type": "code",
   "execution_count": 4,
   "id": "f00b953a",
   "metadata": {},
   "outputs": [
    {
     "name": "stderr",
     "output_type": "stream",
     "text": [
      "/opt/anaconda3/envs/mlewp-chapter03/lib/python3.10/site-packages/tqdm/auto.py:21: TqdmWarning: IProgress not found. Please update jupyter and ipywidgets. See https://ipywidgets.readthedocs.io/en/stable/user_install.html\n",
      "  from .autonotebook import tqdm as notebook_tqdm\n"
     ]
    }
   ],
   "source": [
    "from alibi_detect.cd import MMDDriftOnline"
   ]
  },
  {
   "cell_type": "code",
   "execution_count": 5,
   "id": "fe0e69b2",
   "metadata": {},
   "outputs": [
    {
     "name": "stderr",
     "output_type": "stream",
     "text": [
      "No GPU detected, fall back on CPU.\n"
     ]
    },
    {
     "name": "stdout",
     "output_type": "stream",
     "text": [
      "Generating permutations of kernel matrix..\n"
     ]
    },
    {
     "name": "stderr",
     "output_type": "stream",
     "text": [
      "100%|██████████| 2500/2500 [00:00<00:00, 58566.90it/s]\n",
      "Computing thresholds: 100%|██████████| 10/10 [00:00<00:00, 19.63it/s]\n"
     ]
    }
   ],
   "source": [
    "ert = 50\n",
    "window_size = 10\n",
    "cd = MMDDriftOnline(X_ref, ert, window_size, backend='pytorch', n_bootstraps=2500)"
   ]
  },
  {
   "cell_type": "code",
   "execution_count": 6,
   "id": "d9378dd7",
   "metadata": {},
   "outputs": [],
   "source": [
    "def time_run(cd, X, window_size):\n",
    "    n = X.shape[0]\n",
    "    perm = np.random.permutation(n)\n",
    "    t = 0\n",
    "    cd.reset_state() #updated based on git issue!\n",
    "    while True:\n",
    "        #print(t%n)\n",
    "        pred = cd.predict(X[perm[t%n]])\n",
    "        if pred['data']['is_drift'] == 1:\n",
    "            return t\n",
    "        else:\n",
    "            t += 1"
   ]
  },
  {
   "cell_type": "code",
   "execution_count": 7,
   "id": "d2ad859c",
   "metadata": {},
   "outputs": [],
   "source": [
    "n_runs = 4\n",
    "#times_h0 = [time_run(cd, X_h0, window_size) for _ in range(n_runs)]\n",
    "times_h0 = [time_run(cd, X_ref, window_size) for _ in range(n_runs)] #changed to X_ref just to run a test, change back!\n",
    "\n",
    "\n",
    "print(f\"Average run-time under no-drift: {np.mean(times_h0)}\")\n",
    "_ = scipy.stats.probplot(np.array(times_h0), dist=scipy.stats.geom, sparams=1/ert, plot=plt)"
   ]
  },
  {
   "cell_type": "code",
   "execution_count": null,
   "id": "e42ad044-8662-44d9-be3d-735fa0572847",
   "metadata": {},
   "outputs": [],
   "source": [
    "cd.reset_state()"
   ]
  },
  {
   "cell_type": "code",
   "execution_count": null,
   "id": "11fd2d38",
   "metadata": {},
   "outputs": [
    {
     "data": {
      "text/plain": [
       "(178, 13)"
      ]
     },
     "execution_count": 10,
     "metadata": {},
     "output_type": "execute_result"
    }
   ],
   "source": [
    "X.shape"
   ]
  },
  {
   "cell_type": "code",
   "execution_count": null,
   "id": "feb1bb3f",
   "metadata": {},
   "outputs": [],
   "source": [
    "n = X.shape[0]\n",
    "perm = np.random.permutation(n)\n",
    "t = 0\n",
    "# cd.reset()\n",
    "# while True:\n",
    "#     pred = cd.predict(X[perm[t%n]])\n",
    "#     if pred['data']['is_drift'] == 1:\n",
    "#         return t\n",
    "#     else:\n",
    "#         t += 1"
   ]
  },
  {
   "cell_type": "code",
   "execution_count": null,
   "id": "458af7cf",
   "metadata": {},
   "outputs": [],
   "source": [
    "n = X.shape[0]\n",
    "perm = np.random.permutation(n)\n",
    "t = 0"
   ]
  },
  {
   "cell_type": "code",
   "execution_count": null,
   "id": "85c90a51-7bf6-4675-b56f-a44ad16b2c45",
   "metadata": {},
   "outputs": [
    {
     "data": {
      "text/plain": [
       "{'data': {'is_drift': 0,\n",
       "  'distance': None,\n",
       "  'p_val': None,\n",
       "  'threshold': 0.13158504327284265,\n",
       "  'time': 1,\n",
       "  'ert': 50,\n",
       "  'test_stat': -0.05757220772336902},\n",
       " 'meta': {'name': 'MMDDriftOnlineTorch',\n",
       "  'online': True,\n",
       "  'data_type': None,\n",
       "  'version': '0.11.4',\n",
       "  'detector_type': 'drift',\n",
       "  'backend': 'pytorch'}}"
      ]
     },
     "execution_count": 13,
     "metadata": {},
     "output_type": "execute_result"
    }
   ],
   "source": [
    "cd.predict(X[perm[6%n]])"
   ]
  },
  {
   "cell_type": "code",
   "execution_count": null,
   "id": "700f2acf",
   "metadata": {},
   "outputs": [],
   "source": [
    "import pandas as pd"
   ]
  },
  {
   "cell_type": "code",
   "execution_count": null,
   "id": "9a190ee4",
   "metadata": {},
   "outputs": [],
   "source": [
    "df_X_ref = pd.DataFrame(X_ref)"
   ]
  },
  {
   "cell_type": "code",
   "execution_count": null,
   "id": "2b6a4be9",
   "metadata": {},
   "outputs": [],
   "source": [
    "df_X_test = pd.DataFrame(X_test)"
   ]
  },
  {
   "cell_type": "code",
   "execution_count": null,
   "id": "5e70766c",
   "metadata": {},
   "outputs": [
    {
     "data": {
      "text/plain": [
       "<Axes: >"
      ]
     },
     "execution_count": 17,
     "metadata": {},
     "output_type": "execute_result"
    },
    {
     "data": {
      "image/png": "[encoded data removed]",
      "text/plain": [
       "<Figure size 640x480 with 1 Axes>"
      ]
     },
     "metadata": {},
     "output_type": "display_data"
    }
   ],
   "source": [
    "df_X_ref.plot()"
   ]
  },
  {
   "cell_type": "code",
   "execution_count": null,
   "id": "98b5e391",
   "metadata": {},
   "outputs": [],
   "source": [
    "df_X_test.plot()"
   ]
  },
  {
   "cell_type": "code",
   "execution_count": null,
   "id": "f1ee199b",
   "metadata": {},
   "outputs": [],
   "source": [
    "df_X_test.apply(lambda x: cd.predict(x.values))"
   ]
  },
  {
   "cell_type": "code",
   "execution_count": null,
   "id": "a601c410",
   "metadata": {},
   "outputs": [],
   "source": [
    "df_X_test.head().apply(lambda x: type(x.values))"
   ]
  },
  {
   "cell_type": "code",
   "execution_count": null,
   "id": "57a59115",
   "metadata": {},
   "outputs": [],
   "source": [
    "df_X_test.apply(lambda x: cd.predict(x.values)['data']['is_drift'], axis=1).plot(marker='o', linewidth=0)"
   ]
  },
  {
   "cell_type": "code",
   "execution_count": null,
   "id": "4d5563a2",
   "metadata": {},
   "outputs": [],
   "source": [
    "fig, ax = plt.subplots(figsize=(20,10))\n",
    "df_X_test.plot(ax=ax, label='_nolegend_')\n",
    "df_X_test.apply(lambda x: 1750*cd.predict(x.values)['data']['is_drift'], axis=1).plot(kind='bar', ax=ax, color='orange', alpha=0.5, label='Drift')\n",
    "ax.set_xlabel('t+n')\n",
    "ax.set_ylabel('arb. units')\n",
    "ax.legend(loc='upper right', shadow=True)\n",
    "plt.legend()"
   ]
  },
  {
   "cell_type": "code",
   "execution_count": null,
   "id": "1b41982b",
   "metadata": {
    "scrolled": true
   },
   "outputs": [],
   "source": [
    "#### SIMULATE DRIFT DETECTION AND PLOT - USE A LAMBDA\n",
    "fig, ax = plt.subplots(figsize=(20,10))\n",
    "\n",
    "cols = [\"_\" + str(col) for col in df_X_test.columns]\n",
    "cols[-1] = 'Features'\n",
    "df_X_test.columns = cols\n",
    "\n",
    "df_X_test.plot(ax=ax)\n",
    "ax.set_xlabel('Time (arb. units)')\n",
    "ax.set_ylabel('arb. units')\n",
    "\n",
    "ax2= df_X_test.apply(lambda x: 1750*cd.predict(x.values)['data']['is_drift'], axis=1).plot(\n",
    "    kind='bar', \n",
    "    ax=ax,\n",
    "    color='orange', \n",
    "    alpha=0.5, \n",
    "    label='Drift')\n",
    "\n",
    "ax2.legend(loc='upper right', shadow=True)\n",
    "ax.xaxis.set_major_locator(plt.MaxNLocator(9))"
   ]
  },
  {
   "cell_type": "code",
   "execution_count": null,
   "id": "65383873",
   "metadata": {},
   "outputs": [],
   "source": [
    "#assume X=np.array\n",
    "def simulate_drift_detection(cd, X):\n",
    "    drift_detected = []\n",
    "    if len(X)>100:\n",
    "        return 0\n",
    "    else:\n",
    "        for row in X:\n",
    "            cd.reset()\n",
    "            drift_detected.append(cd.predict(row)['data']['is_drift'])\n",
    "        return drift_detected"
   ]
  },
  {
   "cell_type": "code",
   "execution_count": null,
   "id": "b276e553",
   "metadata": {},
   "outputs": [],
   "source": [
    "pd.Series(simulate_drift_detection(cd, X_test)).plot()"
   ]
  },
  {
   "cell_type": "code",
   "execution_count": null,
   "id": "cc1069a6",
   "metadata": {},
   "outputs": [],
   "source": [
    "df_X_test.apply(lambda x: 1750*cd.predict(x.values)['data']['is_drift'], axis=1)"
   ]
  },
  {
   "cell_type": "code",
   "execution_count": null,
   "id": "5197cd75",
   "metadata": {},
   "outputs": [],
   "source": [
    "df_X_test_drift_detections = df_X_test.apply(lambda x: cd.predict(x.values)['data']['is_drift'], axis=1)`"
   ]
  },
  {
   "cell_type": "code",
   "execution_count": null,
   "id": "7b85d5d7",
   "metadata": {},
   "outputs": [],
   "source": [
    "df_X_test.merge(df_X_test_drift_detections.to_frame(), left_index=True, right_index=True).plot()"
   ]
  },
  {
   "cell_type": "code",
   "execution_count": null,
   "id": "65df40ab",
   "metadata": {},
   "outputs": [],
   "source": [
    "df_X_test_drift_detections.plot(kind='bar')"
   ]
  },
  {
   "cell_type": "code",
   "execution_count": null,
   "id": "9eb29534",
   "metadata": {},
   "outputs": [],
   "source": [
    "df_X_test.normalize()"
   ]
  },
  {
   "cell_type": "code",
   "execution_count": null,
   "id": "3df4542a",
   "metadata": {},
   "outputs": [],
   "source": []
  }
 ],
 "metadata": {
  "kernelspec": {
   "display_name": "Python 3 (ipykernel)",
   "language": "python",
   "name": "python3"
  },
  "language_info": {
   "codemirror_mode": {
    "name": "ipython",
    "version": 3
   },
   "file_extension": ".py",
   "mimetype": "text/x-python",
   "name": "python",
   "nbconvert_exporter": "python",
   "pygments_lexer": "ipython3",
   "version": "3.10.8"
  }
 },
 "nbformat": 4,
 "nbformat_minor": 5
}
